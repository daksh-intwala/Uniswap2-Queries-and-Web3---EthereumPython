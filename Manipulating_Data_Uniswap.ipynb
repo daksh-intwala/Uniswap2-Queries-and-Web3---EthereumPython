{
 "metadata": {
  "language_info": {
   "codemirror_mode": {
    "name": "ipython",
    "version": 3
   },
   "file_extension": ".py",
   "mimetype": "text/x-python",
   "name": "python",
   "nbconvert_exporter": "python",
   "pygments_lexer": "ipython3",
   "version": "3.9.5"
  },
  "orig_nbformat": 4,
  "kernelspec": {
   "name": "python3",
   "display_name": "Python 3.9.5 64-bit"
  },
  "interpreter": {
   "hash": "76974a0f0aa3cace5afc8de310936285ca969b79f1b3b96014c86c2ee31df644"
  }
 },
 "nbformat": 4,
 "nbformat_minor": 2,
 "cells": [
  {
   "cell_type": "code",
   "execution_count": 18,
   "metadata": {},
   "outputs": [
    {
     "output_type": "stream",
     "name": "stdout",
     "text": [
      "{'data': {'pairs': [{'createdAtTimestamp': '1616909069',\n                     'id': '0x94b0a3d511b6ecdb17ebf877278ab030acb0a878',\n                     'reserveUSD': '379228504.2176101205761821739594029',\n                     'token0': {'id': '0x956f47f50a910163d8bf957cf5846d573e7f87ca',\n                                'symbol': 'FEI',\n                                'totalLiquidity': '353284955.474042940525570181'},\n                     'token1': {'id': '0xc02aaa39b223fe8d0a0e5c4f27ead9083c756cc2',\n                                'symbol': 'WETH'},\n                     'volumeUSD': '4695078269.180103775149955807650697'},\n                    {'createdAtTimestamp': '1608657192',\n                     'id': '0x21b8065d10f73ee2e260e5b47d3344d3ced7596e',\n                     'reserveUSD': '212304778.7283325821600537933969191',\n                     'token0': {'id': '0x66a0f676479cee1d7373f3dc2e2952778bff5bd6',\n                                'symbol': 'WISE',\n                                'totalLiquidity': '283602187.862762775758133327'},\n                     'token1': {'id': '0xc02aaa39b223fe8d0a0e5c4f27ead9083c756cc2',\n                                'symbol': 'WETH'},\n                     'volumeUSD': '510899463.3810969439681710515185117'},\n                    {'createdAtTimestamp': '1588710145',\n                     'id': '0xb4e16d0168e52d35cacd2c6185b44281ec28c9dc',\n                     'reserveUSD': '208007054.8661425043485137218014926',\n                     'token0': {'id': '0xa0b86991c6218b36c1d19d4a2e9eb0ce3606eb48',\n                                'symbol': 'USDC',\n                                'totalLiquidity': '254613052.323556'},\n                     'token1': {'id': '0xc02aaa39b223fe8d0a0e5c4f27ead9083c756cc2',\n                                'symbol': 'WETH'},\n                     'volumeUSD': '28557276656.16662727041628504490863'},\n                    {'createdAtTimestamp': '1589850429',\n                     'id': '0x0d4a11d5eeaac28ec3f61d100daf4d40471f1852',\n                     'reserveUSD': '190554232.0357271952912557425268704',\n                     'token0': {'id': '0xc02aaa39b223fe8d0a0e5c4f27ead9083c756cc2',\n                                'symbol': 'WETH',\n                                'totalLiquidity': '735062.98443346842646022'},\n                     'token1': {'id': '0xdac17f958d2ee523a2206206994597c13d831ec7',\n                                'symbol': 'USDT'},\n                     'volumeUSD': '27783756567.47265760830711424088692'},\n                    {'createdAtTimestamp': '1589819777',\n                     'id': '0xbb2b8038a1640196fbe3e38816f3e67cba72d940',\n                     'reserveUSD': '126343322.8675906599932215540457701',\n                     'token0': {'id': '0x2260fac5e5542a773aa44fbcfedf7c193bc2c599',\n                                'symbol': 'WBTC',\n                                'totalLiquidity': '2146.33007645'},\n                     'token1': {'id': '0xc02aaa39b223fe8d0a0e5c4f27ead9083c756cc2',\n                                'symbol': 'WETH'},\n                     'volumeUSD': '7976645689.402227972053816467151433'},\n                    {'createdAtTimestamp': '1598951107',\n                     'id': '0xf52f433b79d21023af94251958bed3b64a2b7930',\n                     'reserveUSD': '99387204.86063992507536670627071705',\n                     'token0': {'id': '0xc8c97d9b0af219c2329a0179f6ab8c7a55b39fc1',\n                                'symbol': 'HKMT',\n                                'totalLiquidity': '389504503.871473'},\n                     'token1': {'id': '0xdac17f958d2ee523a2206206994597c13d831ec7',\n                                'symbol': 'USDT'},\n                     'volumeUSD': '2308530.848539774699275572173598096'},\n                    {'createdAtTimestamp': '1608142156',\n                     'id': '0x97c4adc5d28a86f9470c70dd91dc6cc2f20d2d4d',\n                     'reserveUSD': '86171192.44399833108163430972066144',\n                     'token0': {'id': '0x853d955acef822db058eb8505911ed77f175b99e',\n                                'symbol': 'FRAX',\n                                'totalLiquidity': '67648926.515524222559452734'},\n                     'token1': {'id': '0xa0b86991c6218b36c1d19d4a2e9eb0ce3606eb48',\n                                'symbol': 'USDC'},\n                     'volumeUSD': '538289979.3867666435839736090437649'},\n                    {'createdAtTimestamp': '1600302037',\n                     'id': '0xd3d2e2692501a5c9ca623199d38826e513033a17',\n                     'reserveUSD': '82277957.02638777327681680687653376',\n                     'token0': {'id': '0x1f9840a85d5af5bf1d1762f925bdaddc4201f984',\n                                'symbol': 'UNI',\n                                'totalLiquidity': '2310854.523599547677862702'},\n                     'token1': {'id': '0xc02aaa39b223fe8d0a0e5c4f27ead9083c756cc2',\n                                'symbol': 'WETH'},\n                     'volumeUSD': '6636182279.260339912535235971544725'},\n                    {'createdAtTimestamp': '1589164213',\n                     'id': '0xa478c2975ab1ea89e8196811f51a7b7ade33eb11',\n                     'reserveUSD': '77740823.22789893880286269208368179',\n                     'token0': {'id': '0x6b175474e89094c44da98b954eedeac495271d0f',\n                                'symbol': 'DAI',\n                                'totalLiquidity': '73657330.76882650403568685'},\n                     'token1': {'id': '0xc02aaa39b223fe8d0a0e5c4f27ead9083c756cc2',\n                                'symbol': 'WETH'},\n                     'volumeUSD': '13546499280.39886468307982825181304'},\n                    {'createdAtTimestamp': '1607355459',\n                     'id': '0x61b62c5d56ccd158a38367ef2f539668a06356ab',\n                     'reserveUSD': '69269948.27921423595356126660089776',\n                     'token0': {'id': '0xb5fe099475d3030dde498c3bb6f3854f762a48ad',\n                                'symbol': 'FNK',\n                                'totalLiquidity': '896969.370368049485045596'},\n                     'token1': {'id': '0xdac17f958d2ee523a2206206994597c13d831ec7',\n                                'symbol': 'USDT'},\n                     'volumeUSD': '400484366.8928720462883382856880726'}]}}\n"
     ]
    }
   ],
   "source": [
    "import requests\n",
    "import json\n",
    "from pprint import pprint\n",
    "\n",
    "def run_query(q):\n",
    "    request = requests.post('https://api.thegraph.com/subgraphs/name/uniswap/uniswap-v2''', json={'query':query})\n",
    "    if requests.status_codes == 400:\n",
    "        raise Exception('Query has failed. return code is {}.         {}'.format(request.status_code, query))\n",
    "    else:\n",
    "        return request.json()\n",
    "    \n",
    "query=\"\"\"\n",
    "{\n",
    "  pairs(first: 10, where: {reserveUSD_gt: \"1000000\", volumeUSD_gt: \"50000\"}, orderBy: reserveUSD, orderDirection: desc) {\n",
    "    id\n",
    "    createdAtTimestamp    \n",
    "    token0 {\n",
    "      id\n",
    "      symbol\n",
    "      totalLiquidity\n",
    "    }\n",
    "    token1 {\n",
    "      id\n",
    "      symbol\n",
    "    }\n",
    "    reserveUSD\n",
    "    volumeUSD\n",
    "  }\n",
    " \n",
    "}\n",
    "\"\"\"\n",
    "result = run_query(query)\n",
    "pprint(result)\n",
    "\n",
    "\n",
    "\n",
    "\n"
   ]
  },
  {
   "cell_type": "code",
   "execution_count": null,
   "metadata": {},
   "outputs": [],
   "source": []
  }
 ]
}